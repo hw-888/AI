{
  "nbformat": 4,
  "nbformat_minor": 0,
  "metadata": {
    "colab": {
      "provenance": []
    },
    "kernelspec": {
      "name": "python3",
      "display_name": "Python 3"
    },
    "language_info": {
      "name": "python"
    }
  },
  "cells": [
    {
      "cell_type": "code",
      "source": [
        "import matplotlib.pyplot as plt\n",
        "import numpy as np\n",
        "import tensorflow_datasets as tfds\n",
        "import tensorflow as tf"
      ],
      "metadata": {
        "id": "urdkOl5FOLHP"
      },
      "execution_count": null,
      "outputs": []
    },
    {
      "cell_type": "markdown",
      "source": [
        "# Lecture 1: Recurrent Neural Networks\n",
        "---\n",
        "\n"
      ],
      "metadata": {
        "id": "M9vNV9brVQSz"
      }
    },
    {
      "cell_type": "code",
      "source": [
        "dataset, info = tfds.load('imdb_reviews', with_info=True,\n",
        "                          as_supervised=True)\n",
        "train_dataset, test_dataset = dataset['train'], dataset['test']\n",
        "\n",
        "train_dataset.element_spec"
      ],
      "metadata": {
        "colab": {
          "base_uri": "https://localhost:8080/"
        },
        "id": "v5dsMS3EUyuM",
        "outputId": "477753cd-a26a-42d1-c466-82657085da10"
      },
      "execution_count": null,
      "outputs": [
        {
          "output_type": "execute_result",
          "data": {
            "text/plain": [
              "(TensorSpec(shape=(), dtype=tf.string, name=None),\n",
              " TensorSpec(shape=(), dtype=tf.int64, name=None))"
            ]
          },
          "metadata": {},
          "execution_count": 2
        }
      ]
    },
    {
      "cell_type": "code",
      "source": [
        "# Take every 5th entry as the testing set\n",
        "\n",
        "test_batches = tf.data.experimental.cardinality(test_dataset)\n",
        "test_dataset = test_dataset.take(test_batches // 5)\n",
        "validation_dataset = test_dataset.skip(test_batches // 5)"
      ],
      "metadata": {
        "id": "Grifme3RSn0H"
      },
      "execution_count": null,
      "outputs": []
    },
    {
      "cell_type": "code",
      "source": [
        "BUFFER_SIZE = 10000\n",
        "# Buffering: determines how much you can load in pieces\n",
        "BATCH_SIZE = 64\n",
        "\n",
        "train_dataset = train_dataset.shuffle(BUFFER_SIZE).batch(BATCH_SIZE).prefetch(tf.data.AUTOTUNE)\n",
        "test_dataset = test_dataset.batch(BATCH_SIZE).prefetch(tf.data.AUTOTUNE)\n",
        "validation_dataset = validation_dataset.batch(BATCH_SIZE).prefetch(tf.data.AUTOTUNE)"
      ],
      "metadata": {
        "id": "bInQjkoSUzTV"
      },
      "execution_count": null,
      "outputs": []
    },
    {
      "cell_type": "code",
      "source": [
        "VOCAB_SIZE = 1000 # All vectors should be less than 1000 words (based on IMDB data)\n",
        "encoder = tf.keras.layers.TextVectorization(\n",
        "    max_tokens=VOCAB_SIZE)\n",
        "encoder.adapt(train_dataset.map(lambda text, label: text)) # Train on the training set"
      ],
      "metadata": {
        "id": "e13RHDtEUriF"
      },
      "execution_count": null,
      "outputs": []
    },
    {
      "cell_type": "code",
      "source": [
        "### New Code Here! ###\n",
        "# mask_zero: if there isn't 1000 words, cover up the places that had no words\n",
        "\n",
        "model = tf.keras.Sequential([\n",
        "    encoder,\n",
        "    tf.keras.layers.Embedding(input_dim=len(encoder.get_vocabulary()), output_dim=64, mask_zero=True),\n",
        "    # the 64 can be anything you want\n",
        "    tf.keras.layers.Bidirectional(tf.keras.layers.SimpleRNN(64)), # outut_dim and SimpleRNN dimension must match b/c they connect\n",
        "    tf.keras.layers.Dense(64, activation='relu'), # This 64 does not have to match but this just apparently just for convenience\n",
        "    tf.keras.layers.Dense(1)\n",
        "])\n",
        "\n",
        "### End New Code ###\n",
        "\n",
        "base_learning_rate = 0.001\n",
        "\n",
        "model_optimizer=tf.keras.optimizers.Adam(learning_rate=base_learning_rate)\n",
        "model_loss=tf.keras.losses.BinaryCrossentropy()\n",
        "model_accuracy_metric=tf.keras.metrics.BinaryAccuracy(name='binary_accuracy')\n",
        "\n",
        "model.compile(optimizer=model_optimizer, loss=model_loss,\n",
        "              metrics=[model_accuracy_metric])\n",
        "\n",
        "model_epochs = 10\n",
        "\n",
        "model_early_stopping = tf.keras.callbacks.EarlyStopping(patience=5,\n",
        "                                                       restore_best_weights=True,\n",
        "                                                       monitor='val_loss')\n",
        "\n",
        "model_history = model.fit(train_dataset, epochs=model_epochs,\n",
        "                        #  validation_data=validation_dataset,\n",
        "                         callbacks=[model_early_stopping])\n",
        "\n",
        "model_accuracy = model_history.history['binary_accuracy']\n",
        "model_val_accuracy = model_history.history['val_binary_accuracy']\n",
        "\n",
        "model_loss = model_history.history['loss']\n",
        "model_val_loss = model_history.history['val_loss']"
      ],
      "metadata": {
        "id": "pZN_xVjGR889"
      },
      "execution_count": null,
      "outputs": []
    },
    {
      "cell_type": "code",
      "source": [
        "tf.keras.utils.plot_model(model)"
      ],
      "metadata": {
        "colab": {
          "base_uri": "https://localhost:8080/",
          "height": 564
        },
        "id": "c9s408gNtimI",
        "outputId": "f0a0dc07-671c-4aad-8350-a40077769d66"
      },
      "execution_count": null,
      "outputs": [
        {
          "output_type": "execute_result",
          "data": {
            "image/png": "[encoded data removed]",
            "text/plain": [
              "<IPython.core.display.Image object>"
            ]
          },
          "metadata": {},
          "execution_count": 17
        }
      ]
    },
    {
      "cell_type": "code",
      "source": [
        "print(model.summary())"
      ],
      "metadata": {
        "colab": {
          "base_uri": "https://localhost:8080/"
        },
        "id": "mrEcNj4BtmMj",
        "outputId": "574d407d-b64d-4451-8948-a5addd412383"
      },
      "execution_count": null,
      "outputs": [
        {
          "output_type": "stream",
          "name": "stdout",
          "text": [
            "Model: \"sequential_2\"\n",
            "_________________________________________________________________\n",
            " Layer (type)                Output Shape              Param #   \n",
            "=================================================================\n",
            " text_vectorization_1 (Text  (None, None)              0         \n",
            " Vectorization)                                                  \n",
            "                                                                 \n",
            " embedding_2 (Embedding)     (None, None, 64)          64000     \n",
            "                                                                 \n",
            " bidirectional_2 (Bidirecti  (None, 128)               16512     \n",
            " onal)                                                           \n",
            "                                                                 \n",
            " dense_4 (Dense)             (None, 64)                8256      \n",
            "                                                                 \n",
            " dense_5 (Dense)             (None, 1)                 65        \n",
            "                                                                 \n",
            "=================================================================\n",
            "Total params: 88833 (347.00 KB)\n",
            "Trainable params: 88833 (347.00 KB)\n",
            "Non-trainable params: 0 (0.00 Byte)\n",
            "_________________________________________________________________\n",
            "None\n"
          ]
        }
      ]
    },
    {
      "cell_type": "markdown",
      "source": [
        "# Lecture 2: Reading in Time Series Data"
      ],
      "metadata": {
        "id": "IopRMTaeVxAq"
      }
    },
    {
      "cell_type": "code",
      "source": [
        "from google.colab import drive\n",
        "drive.mount('/content/drive')"
      ],
      "metadata": {
        "colab": {
          "base_uri": "https://localhost:8080/"
        },
        "id": "ZDGLvcUftqRb",
        "outputId": "d5952b79-5a03-4d2d-a9ca-ff89337e7fe6"
      },
      "execution_count": null,
      "outputs": [
        {
          "output_type": "stream",
          "name": "stdout",
          "text": [
            "Mounted at /content/drive\n"
          ]
        }
      ]
    },
    {
      "cell_type": "code",
      "source": [
        "import pandas as pd"
      ],
      "metadata": {
        "id": "Ljq1LP2rtzW5"
      },
      "execution_count": null,
      "outputs": []
    },
    {
      "cell_type": "code",
      "source": [
        "data = pd.read_csv('/content/drive/MyDrive/Data Repo/tabular_data/D202.csv')"
      ],
      "metadata": {
        "id": "TqWsIF8Qt2aD"
      },
      "execution_count": null,
      "outputs": []
    },
    {
      "cell_type": "code",
      "source": [
        "print(data)"
      ],
      "metadata": {
        "colab": {
          "base_uri": "https://localhost:8080/"
        },
        "id": "40tXAiCfumvu",
        "outputId": "eb473ce0-fa02-49cf-ea34-95804903fb44"
      },
      "execution_count": null,
      "outputs": [
        {
          "output_type": "stream",
          "name": "stdout",
          "text": [
            "                 TYPE        DATE START TIME END TIME  USAGE UNITS    COST  \\\n",
            "0      Electric usage  10/22/2016       0:00     0:14   0.01   kWh  $0.00    \n",
            "1      Electric usage  10/22/2016       0:15     0:29   0.01   kWh  $0.00    \n",
            "2      Electric usage  10/22/2016       0:30     0:44   0.01   kWh  $0.00    \n",
            "3      Electric usage  10/22/2016       0:45     0:59   0.01   kWh  $0.00    \n",
            "4      Electric usage  10/22/2016       1:00     1:14   0.01   kWh  $0.00    \n",
            "...               ...         ...        ...      ...    ...   ...     ...   \n",
            "70363  Electric usage  10/24/2018      22:45    22:59   0.02   kWh  $0.00    \n",
            "70364  Electric usage  10/24/2018      23:00    23:14   0.03   kWh  $0.01    \n",
            "70365  Electric usage  10/24/2018      23:15    23:29   0.03   kWh  $0.01    \n",
            "70366  Electric usage  10/24/2018      23:30    23:44   0.03   kWh  $0.01    \n",
            "70367  Electric usage  10/24/2018      23:45    23:59   0.03   kWh  $0.01    \n",
            "\n",
            "       NOTES  \n",
            "0        NaN  \n",
            "1        NaN  \n",
            "2        NaN  \n",
            "3        NaN  \n",
            "4        NaN  \n",
            "...      ...  \n",
            "70363    NaN  \n",
            "70364    NaN  \n",
            "70365    NaN  \n",
            "70366    NaN  \n",
            "70367    NaN  \n",
            "\n",
            "[70368 rows x 8 columns]\n"
          ]
        }
      ]
    },
    {
      "cell_type": "code",
      "source": [
        "data = data.drop(columns=['TYPE', 'NOTES'])"
      ],
      "metadata": {
        "id": "n-sDLcAIuxX6"
      },
      "execution_count": null,
      "outputs": []
    },
    {
      "cell_type": "code",
      "source": [
        "print(data['UNITS'].unique())"
      ],
      "metadata": {
        "colab": {
          "base_uri": "https://localhost:8080/"
        },
        "id": "FeMCis6Gu3kL",
        "outputId": "f3466efe-a539-455d-ecbb-c4b7deaac261"
      },
      "execution_count": null,
      "outputs": [
        {
          "output_type": "stream",
          "name": "stdout",
          "text": [
            "['kWh']\n"
          ]
        }
      ]
    },
    {
      "cell_type": "code",
      "source": [
        "data.info()"
      ],
      "metadata": {
        "colab": {
          "base_uri": "https://localhost:8080/"
        },
        "id": "e6jQoK2Ju-Xa",
        "outputId": "3e6a702e-70e7-42b5-8343-d6681e27e00a"
      },
      "execution_count": null,
      "outputs": [
        {
          "output_type": "stream",
          "name": "stdout",
          "text": [
            "<class 'pandas.core.frame.DataFrame'>\n",
            "RangeIndex: 70368 entries, 0 to 70367\n",
            "Data columns (total 6 columns):\n",
            " #   Column      Non-Null Count  Dtype  \n",
            "---  ------      --------------  -----  \n",
            " 0   DATE        70368 non-null  object \n",
            " 1   START TIME  70368 non-null  object \n",
            " 2   END TIME    70368 non-null  object \n",
            " 3   USAGE       70368 non-null  float64\n",
            " 4   UNITS       70368 non-null  object \n",
            " 5   COST        70368 non-null  object \n",
            "dtypes: float64(1), object(5)\n",
            "memory usage: 3.2+ MB\n"
          ]
        }
      ]
    },
    {
      "cell_type": "code",
      "source": [
        "window_size = 20 # This means 20 of the 15-second intervals\n",
        "input_cols=['USAGE', 'COST']\n",
        "num_input_cols = len(input_cols)\n",
        "\n",
        "# Build container to hold our windows\n",
        "# the number of windows = total amount of data - size of window (b/c we have to miss the last 20 datapoints cause we can't shift the window anymore)\n",
        "windows_container = np.zeros(((len(data)-window_size), window_size, num_input_cols)) # Everything in pink is a tuple"
      ],
      "metadata": {
        "id": "Dn8MDdHPvPji"
      },
      "execution_count": null,
      "outputs": []
    },
    {
      "cell_type": "code",
      "source": [
        "data['COST'] = data['COST'].str.replace('$', '')\n",
        "data['COST'] = pd.to_numeric(data['COST'])"
      ],
      "metadata": {
        "id": "a0Y1cODEw_Wn"
      },
      "execution_count": null,
      "outputs": []
    },
    {
      "cell_type": "code",
      "source": [
        "for i in range(len(data) - window_size):\n",
        "  windows_container[i,:,:] = data[input_cols].iloc[i:i+window_size]"
      ],
      "metadata": {
        "id": "mIxx7vVTxYW5"
      },
      "execution_count": null,
      "outputs": []
    },
    {
      "cell_type": "code",
      "source": [
        "print(windows_container[100])"
      ],
      "metadata": {
        "colab": {
          "base_uri": "https://localhost:8080/"
        },
        "id": "1ucJrRySxqTB",
        "outputId": "c1d4597d-ae72-4890-f611-12b88c737e39"
      },
      "execution_count": null,
      "outputs": [
        {
          "output_type": "stream",
          "name": "stdout",
          "text": [
            "[[0.03 0.01]\n",
            " [0.03 0.01]\n",
            " [0.03 0.01]\n",
            " [0.03 0.01]\n",
            " [0.02 0.  ]\n",
            " [0.02 0.  ]\n",
            " [0.02 0.  ]\n",
            " [0.02 0.  ]\n",
            " [0.03 0.01]\n",
            " [0.03 0.01]\n",
            " [0.03 0.01]\n",
            " [0.03 0.01]\n",
            " [0.81 0.15]\n",
            " [0.81 0.15]\n",
            " [0.81 0.15]\n",
            " [0.81 0.15]\n",
            " [0.73 0.13]\n",
            " [0.73 0.13]\n",
            " [0.73 0.13]\n",
            " [0.73 0.13]]\n"
          ]
        }
      ]
    }
  ]
}